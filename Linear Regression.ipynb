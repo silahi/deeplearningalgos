{
 "cells": [
  {
   "cell_type": "code",
   "execution_count": 1,
   "metadata": {},
   "outputs": [],
   "source": [
    "import numpy as np\n",
    "import matplotlib.pyplot as pl\n",
    "from sklearn.datasets import make_regression as make"
   ]
  },
  {
   "cell_type": "code",
   "execution_count": 140,
   "metadata": {
    "scrolled": true
   },
   "outputs": [
    {
     "data": {
      "text/plain": [
       "<matplotlib.collections.PathCollection at 0x1d919135430>"
      ]
     },
     "execution_count": 140,
     "metadata": {},
     "output_type": "execute_result"
    },
    {
     "data": {
      "image/png": "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\n",
      "text/plain": [
       "<Figure size 432x288 with 1 Axes>"
      ]
     },
     "metadata": {
      "needs_background": "light"
     },
     "output_type": "display_data"
    }
   ],
   "source": [
    "x,y = make(n_samples = 100, n_features = 1, noise=15)\n",
    "pl.scatter(x,y)"
   ]
  },
  {
   "cell_type": "code",
   "execution_count": 141,
   "metadata": {},
   "outputs": [
    {
     "data": {
      "text/plain": [
       "(100, 2)"
      ]
     },
     "execution_count": 141,
     "metadata": {},
     "output_type": "execute_result"
    }
   ],
   "source": [
    "X = np.hstack((np.ones((x.shape[0],1)),x))\n",
    "X.shape"
   ]
  },
  {
   "cell_type": "code",
   "execution_count": 142,
   "metadata": {},
   "outputs": [
    {
     "data": {
      "text/plain": [
       "array([-0.60227559,  0.43885331])"
      ]
     },
     "execution_count": 142,
     "metadata": {},
     "output_type": "execute_result"
    }
   ],
   "source": [
    "theta = np.random.randn(2)\n",
    "theta"
   ]
  },
  {
   "cell_type": "markdown",
   "metadata": {},
   "source": [
    "# Model"
   ]
  },
  {
   "cell_type": "code",
   "execution_count": 2,
   "metadata": {},
   "outputs": [],
   "source": [
    "# For the whole examples\n",
    "def model(X,theta):\n",
    "    return np.dot(theta,X.T)"
   ]
  },
  {
   "cell_type": "code",
   "execution_count": 3,
   "metadata": {},
   "outputs": [],
   "source": [
    "# For a simple example \n",
    "def h(x,theta):\n",
    "    return np.sum(theta * x)"
   ]
  },
  {
   "cell_type": "markdown",
   "metadata": {},
   "source": [
    "# Cost function"
   ]
  },
  {
   "cell_type": "code",
   "execution_count": 4,
   "metadata": {},
   "outputs": [],
   "source": [
    "def cost(X,y,theta):\n",
    "    m = len(y)\n",
    "    return (1/(2*m)) * np.sum(np.square(model(X,theta) - y ))"
   ]
  },
  {
   "cell_type": "markdown",
   "metadata": {},
   "source": [
    "# Gradient"
   ]
  },
  {
   "cell_type": "code",
   "execution_count": 5,
   "metadata": {},
   "outputs": [],
   "source": [
    "def grad(X,y,theta):\n",
    "    m = len(y)\n",
    "    rs = []\n",
    "    for j in range(len(theta)):\n",
    "        g = (1/m) * np.sum(X[:,j] * (model(X,theta) -y)) \n",
    "        rs.append(g)\n",
    "    return np.array(rs)        "
   ]
  },
  {
   "cell_type": "markdown",
   "metadata": {},
   "source": [
    "# Gradient Descent"
   ]
  },
  {
   "cell_type": "code",
   "execution_count": 6,
   "metadata": {},
   "outputs": [],
   "source": [
    "def gradient_descent(X,y,theta,learning_rate,n_iterations):\n",
    "    cost_values = []\n",
    "    for i in range(n_iterations):\n",
    "        theta = theta - learning_rate * grad(X,y,theta)\n",
    "        cost_values.append(cost(X,y,theta))\n",
    "    return theta,cost_values"
   ]
  },
  {
   "cell_type": "markdown",
   "metadata": {},
   "source": [
    "# Learning process"
   ]
  },
  {
   "cell_type": "code",
   "execution_count": 148,
   "metadata": {},
   "outputs": [],
   "source": [
    "params,cost_values = gradient_descent(X,y,theta,learning_rate=0.01,n_iterations=500)"
   ]
  },
  {
   "cell_type": "code",
   "execution_count": 149,
   "metadata": {},
   "outputs": [
    {
     "data": {
      "text/plain": [
       "[<matplotlib.lines.Line2D at 0x1d918ec3670>]"
      ]
     },
     "execution_count": 149,
     "metadata": {},
     "output_type": "execute_result"
    },
    {
     "data": {
      "image/png": "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\n",
      "text/plain": [
       "<Figure size 432x288 with 1 Axes>"
      ]
     },
     "metadata": {
      "needs_background": "light"
     },
     "output_type": "display_data"
    }
   ],
   "source": [
    "pl.plot(np.linspace(0,500,500),cost_values)"
   ]
  },
  {
   "cell_type": "markdown",
   "metadata": {},
   "source": [
    "# Determination coefficient"
   ]
  },
  {
   "cell_type": "code",
   "execution_count": 18,
   "metadata": {},
   "outputs": [],
   "source": [
    "def score(X, y, theta):\n",
    "    a = np.sum((y - model(X,theta))**2)\n",
    "    b = np.sum((y - np.mean(y))**2 )    \n",
    "    return 1 - (a/b)"
   ]
  },
  {
   "cell_type": "code",
   "execution_count": 151,
   "metadata": {},
   "outputs": [
    {
     "data": {
      "text/plain": [
       "0.9488301701609096"
      ]
     },
     "execution_count": 151,
     "metadata": {},
     "output_type": "execute_result"
    }
   ],
   "source": [
    "score(X,y,params)"
   ]
  },
  {
   "cell_type": "code",
   "execution_count": 152,
   "metadata": {},
   "outputs": [
    {
     "data": {
      "text/plain": [
       "[<matplotlib.lines.Line2D at 0x1d918f3e4c0>]"
      ]
     },
     "execution_count": 152,
     "metadata": {},
     "output_type": "execute_result"
    },
    {
     "data": {
      "image/png": "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\n",
      "text/plain": [
       "<Figure size 432x288 with 1 Axes>"
      ]
     },
     "metadata": {
      "needs_background": "light"
     },
     "output_type": "display_data"
    }
   ],
   "source": [
    "pred = model(X,params)\n",
    "pl.scatter(X[:,1],y)\n",
    "pl.plot(X[:,1],pred)"
   ]
  },
  {
   "cell_type": "code",
   "execution_count": 164,
   "metadata": {},
   "outputs": [],
   "source": [
    "x,y = make(n_samples=100, n_features=2, noise=1)"
   ]
  },
  {
   "cell_type": "code",
   "execution_count": 165,
   "metadata": {},
   "outputs": [
    {
     "data": {
      "text/plain": [
       "<matplotlib.collections.PathCollection at 0x1d91a161ac0>"
      ]
     },
     "execution_count": 165,
     "metadata": {},
     "output_type": "execute_result"
    },
    {
     "data": {
      "image/png": "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\n",
      "text/plain": [
       "<Figure size 432x288 with 1 Axes>"
      ]
     },
     "metadata": {
      "needs_background": "light"
     },
     "output_type": "display_data"
    }
   ],
   "source": [
    "pl.scatter(x[:,0],y)\n",
    "pl.scatter(x[:,1],y)"
   ]
  },
  {
   "cell_type": "code",
   "execution_count": 7,
   "metadata": {},
   "outputs": [],
   "source": [
    "import pandas as pd"
   ]
  },
 
  
 "nbformat": 4,
 "nbformat_minor": 4
}
